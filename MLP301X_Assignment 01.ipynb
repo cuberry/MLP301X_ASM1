{
 "cells": [
  {
   "cell_type": "markdown",
   "source": [
    "#   <\\h> FUNCTIONAL TEST FOR ASSIGNMENT 01 </h>\n"
   ],
   "metadata": {
    "collapsed": false
   }
  },
  {
   "cell_type": "code",
   "execution_count": 4,
   "outputs": [
    {
     "name": "stdout",
     "output_type": "stream",
     "text": [
      "File is found! Processing to load the data ...\n",
      "Load data successful! Proceed the next steps ...\n"
     ]
    },
    {
     "data": {
      "text/plain": "Student Code\nN00000146     85.0\nN00000147     76.0\nN00000148     92.0\nN00000149     78.0\nN00000150     69.0\n             ...  \nN00000636    535.0\nN000008A8    556.0\nN00000638    567.0\nN00000639    568.0\nN00000640    569.0\nName: Exam Score, Length: 495, dtype: float64"
     },
     "execution_count": 4,
     "metadata": {},
     "output_type": "execute_result"
    }
   ],
   "source": [
    "import os\n",
    "\n",
    "import numpy as np\n",
    "import pandas as pd\n",
    "\n",
    "fileName = input('Please enter the file name:')\n",
    "\n",
    "try:\n",
    "    f = open(os.getcwd() + '\\\\Data Input\\\\' + fileName, 'r')\n",
    "    print('File is found! Processing to load the data ...')\n",
    "    rawData = [[i for i in j.split(',')] for j in f.read().split()]\n",
    "    classDf = pd.DataFrame(rawData).rename(columns={0: 'Student Code'})\n",
    "    f.close()\n",
    "    print('Load data successful! Proceed the next steps ...')\n",
    "except IOError:\n",
    "    #   If the file is not found, try to re-search in 4 times\n",
    "    print('File is not found!')\n",
    "\n",
    "def clean_data(dataFrame):\n",
    "    cols = dataFrame.shape[1]\n",
    "    if cols <= 26:\n",
    "        return dataFrame\n",
    "    else:\n",
    "        df = dataFrame.drop(dataFrame.iloc[:, 26:], axis=1, inplace=False)\n",
    "        return df\n",
    "\n",
    "#   df is the cleaned dataframe of original classDf\n",
    "df = clean_data(classDf)\n",
    "\n",
    "#   creat a copy dataframe for processing\n",
    "df0 = df.copy()\n",
    "n = len(df0)\n",
    "\n",
    "#   set index of df0 to Student Code\n",
    "df0.set_index('Student Code', inplace=True)\n",
    "\n",
    "#   convert all ''/ missing answer to 0\n",
    "df[df == ''] = 0\n",
    "\n",
    "#   setup the answer key to list\n",
    "answerKey = list('B,A,D,D,C,B,D,A,C,C,D,B,A,B,A,C,B,D,A,C,A,A,B,D,D'.split(','))\n",
    "\n",
    "#   compare the df0 with answer key then copy to df1\n",
    "#   df1 value == True >> convert to 4\n",
    "#   df vallue == False >> convert to -1\n",
    "df1 = df0.eq(answerKey)\n",
    "\n",
    "df1[df1 == True] = 4\n",
    "df1[df1 == False] = -1\n",
    "\n",
    "#   move all df0 zero value (0) to df1 for score\n",
    "zeroPos = np.where(df0 == 0)\n",
    "x = list(np.array(zeroPos)[0,0:])\n",
    "y = list(np.array(zeroPos)[1,0:])\n",
    "zeroList = list(zip(x, y))\n",
    "for i in zeroList:\n",
    "    df1.iloc[i] = 0\n",
    "\n",
    "#   create the\n",
    "df1.insert(loc=0, column='Exam Score', value=np.array([_ for _ in range(n)]))\n",
    "df1['Exam Score'] = df1.sum(axis=1)\n",
    "\n",
    "df2 = df1['Exam Score']\n",
    "df2"
   ],
   "metadata": {
    "collapsed": false,
    "ExecuteTime": {
     "end_time": "2023-06-12T04:09:31.548789300Z",
     "start_time": "2023-06-12T04:09:27.655857800Z"
    }
   }
  },
  {
   "cell_type": "code",
   "execution_count": null,
   "outputs": [],
   "source": [],
   "metadata": {
    "collapsed": false
   }
  }
 ],
 "metadata": {
  "kernelspec": {
   "display_name": "Python 3",
   "language": "python",
   "name": "python3"
  },
  "language_info": {
   "codemirror_mode": {
    "name": "ipython",
    "version": 2
   },
   "file_extension": ".py",
   "mimetype": "text/x-python",
   "name": "python",
   "nbconvert_exporter": "python",
   "pygments_lexer": "ipython2",
   "version": "2.7.6"
  }
 },
 "nbformat": 4,
 "nbformat_minor": 0
}
