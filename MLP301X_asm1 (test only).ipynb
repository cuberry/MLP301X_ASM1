{
 "cells": [
  {
   "cell_type": "markdown",
   "source": [
    "#   <\\h> FUNCTIONAL TEST FOR ASSIGNMENT 01 </h>\n"
   ],
   "metadata": {
    "collapsed": false
   }
  },
  {
   "cell_type": "code",
   "execution_count": 28,
   "outputs": [
    {
     "name": "stdout",
     "output_type": "stream",
     "text": [
      "File is found! Processing to load the data ...\n",
      "Load data successful! Proceed the next steps ...\n"
     ]
    },
    {
     "data": {
      "text/plain": "              Exam Score   1   2   3   4   5   6   7   8   9  ...  16  17  18  \\\nStudent Code                                                  ...               \nN00000001           55.0  -1   4   4   4   4  -1   4   4  -1  ...   4   4   4   \nN00000002           65.0  -1   4  -1   4  -1   4   4   4   4  ...   4   4   4   \nN00000003           80.0   4   4  -1   4   4   4   4   4   4  ...   4   4   4   \nN00000004           70.0   4  -1   4  -1  -1   4   4   4   4  ...   4   4   4   \nN00000005           80.0   4   4  -1   4  -1   4   4   4   4  ...   4   4   4   \nN00000006           65.0   4   4   4  -1   4   4   4   4   4  ...   4  -1  -1   \nN00000007           85.0   4   4   4   4   4   4   4   4   4  ...   4   4   4   \nN00000008           65.0  -1   4   4   4   4  -1   4   4   4  ...  -1   4   4   \nN00000009           85.0   4   4  -1   4   4   4   4   4   4  ...  -1   4   4   \nN00000010           70.0  -1   4   4  -1   4   4   4   4   4  ...   4   4   4   \nN00000011           85.0   4   4   4  -1   4   4   4   4   4  ...   4   4   4   \nN00000012           70.0   4  -1   4   4   4   4   4   4   4  ...  -1   4   4   \nN00000013           70.0  -1   4   4  -1  -1   4  -1   4   4  ...   4   4   4   \nN00000014           75.0   4  -1   4   4   4   4  -1  -1   4  ...   4  -1   4   \nN00000015           70.0  -1  -1  -1   4   4   4  -1   4   4  ...   4   4   4   \nN00000016           90.0   4   4  -1   4  -1   4   4   4   4  ...   4   4   4   \nN00000017           65.0   4   4   4   4   4   4  -1   4  -1  ...   4   4   4   \nN00000018           75.0   4   4   4  -1   4   4   4   4   4  ...  -1   4   4   \nN00000019           75.0   4   4   4   4   4   4   4  -1   4  ...   4   4   4   \nN00000020           65.0   4  -1   4   4   4   4   4   4   4  ...  -1   4   4   \n\n              19  20  21  22  23  24  25  \nStudent Code                              \nN00000001      4   4  -1   4  -1  -1   4  \nN00000002     -1   4   4   4   4  -1   4  \nN00000003      4  -1   4  -1   4   4   4  \nN00000004     -1   4   4  -1   4  -1   4  \nN00000005     -1   4   4   4  -1   4   4  \nN00000006      4   4   4  -1   4   4  -1  \nN00000007     -1   4   4   4   4   4  -1  \nN00000008      4   4   4  -1   4  -1   4  \nN00000009      4   4   4   4   4   4   4  \nN00000010      4  -1  -1  -1   4   4  -1  \nN00000011      4   4   4  -1   4   4   4  \nN00000012      4  -1   4   4  -1  -1  -1  \nN00000013      4   4   4   4   4   4   4  \nN00000014      4   4   4   4  -1   4   4  \nN00000015      4   4   4  -1  -1   4   4  \nN00000016      4   4   4   4   4   4   4  \nN00000017     -1  -1  -1   4   4   4   4  \nN00000018      4  -1   4   4   4  -1   4  \nN00000019      4  -1   4   4   4   4   4  \nN00000020     -1   4   4   4   4   4   4  \n\n[20 rows x 26 columns]",
      "text/html": "<div>\n<style scoped>\n    .dataframe tbody tr th:only-of-type {\n        vertical-align: middle;\n    }\n\n    .dataframe tbody tr th {\n        vertical-align: top;\n    }\n\n    .dataframe thead th {\n        text-align: right;\n    }\n</style>\n<table border=\"1\" class=\"dataframe\">\n  <thead>\n    <tr style=\"text-align: right;\">\n      <th></th>\n      <th>Exam Score</th>\n      <th>1</th>\n      <th>2</th>\n      <th>3</th>\n      <th>4</th>\n      <th>5</th>\n      <th>6</th>\n      <th>7</th>\n      <th>8</th>\n      <th>9</th>\n      <th>...</th>\n      <th>16</th>\n      <th>17</th>\n      <th>18</th>\n      <th>19</th>\n      <th>20</th>\n      <th>21</th>\n      <th>22</th>\n      <th>23</th>\n      <th>24</th>\n      <th>25</th>\n    </tr>\n    <tr>\n      <th>Student Code</th>\n      <th></th>\n      <th></th>\n      <th></th>\n      <th></th>\n      <th></th>\n      <th></th>\n      <th></th>\n      <th></th>\n      <th></th>\n      <th></th>\n      <th></th>\n      <th></th>\n      <th></th>\n      <th></th>\n      <th></th>\n      <th></th>\n      <th></th>\n      <th></th>\n      <th></th>\n      <th></th>\n      <th></th>\n    </tr>\n  </thead>\n  <tbody>\n    <tr>\n      <th>N00000001</th>\n      <td>55.0</td>\n      <td>-1</td>\n      <td>4</td>\n      <td>4</td>\n      <td>4</td>\n      <td>4</td>\n      <td>-1</td>\n      <td>4</td>\n      <td>4</td>\n      <td>-1</td>\n      <td>...</td>\n      <td>4</td>\n      <td>4</td>\n      <td>4</td>\n      <td>4</td>\n      <td>4</td>\n      <td>-1</td>\n      <td>4</td>\n      <td>-1</td>\n      <td>-1</td>\n      <td>4</td>\n    </tr>\n    <tr>\n      <th>N00000002</th>\n      <td>65.0</td>\n      <td>-1</td>\n      <td>4</td>\n      <td>-1</td>\n      <td>4</td>\n      <td>-1</td>\n      <td>4</td>\n      <td>4</td>\n      <td>4</td>\n      <td>4</td>\n      <td>...</td>\n      <td>4</td>\n      <td>4</td>\n      <td>4</td>\n      <td>-1</td>\n      <td>4</td>\n      <td>4</td>\n      <td>4</td>\n      <td>4</td>\n      <td>-1</td>\n      <td>4</td>\n    </tr>\n    <tr>\n      <th>N00000003</th>\n      <td>80.0</td>\n      <td>4</td>\n      <td>4</td>\n      <td>-1</td>\n      <td>4</td>\n      <td>4</td>\n      <td>4</td>\n      <td>4</td>\n      <td>4</td>\n      <td>4</td>\n      <td>...</td>\n      <td>4</td>\n      <td>4</td>\n      <td>4</td>\n      <td>4</td>\n      <td>-1</td>\n      <td>4</td>\n      <td>-1</td>\n      <td>4</td>\n      <td>4</td>\n      <td>4</td>\n    </tr>\n    <tr>\n      <th>N00000004</th>\n      <td>70.0</td>\n      <td>4</td>\n      <td>-1</td>\n      <td>4</td>\n      <td>-1</td>\n      <td>-1</td>\n      <td>4</td>\n      <td>4</td>\n      <td>4</td>\n      <td>4</td>\n      <td>...</td>\n      <td>4</td>\n      <td>4</td>\n      <td>4</td>\n      <td>-1</td>\n      <td>4</td>\n      <td>4</td>\n      <td>-1</td>\n      <td>4</td>\n      <td>-1</td>\n      <td>4</td>\n    </tr>\n    <tr>\n      <th>N00000005</th>\n      <td>80.0</td>\n      <td>4</td>\n      <td>4</td>\n      <td>-1</td>\n      <td>4</td>\n      <td>-1</td>\n      <td>4</td>\n      <td>4</td>\n      <td>4</td>\n      <td>4</td>\n      <td>...</td>\n      <td>4</td>\n      <td>4</td>\n      <td>4</td>\n      <td>-1</td>\n      <td>4</td>\n      <td>4</td>\n      <td>4</td>\n      <td>-1</td>\n      <td>4</td>\n      <td>4</td>\n    </tr>\n    <tr>\n      <th>N00000006</th>\n      <td>65.0</td>\n      <td>4</td>\n      <td>4</td>\n      <td>4</td>\n      <td>-1</td>\n      <td>4</td>\n      <td>4</td>\n      <td>4</td>\n      <td>4</td>\n      <td>4</td>\n      <td>...</td>\n      <td>4</td>\n      <td>-1</td>\n      <td>-1</td>\n      <td>4</td>\n      <td>4</td>\n      <td>4</td>\n      <td>-1</td>\n      <td>4</td>\n      <td>4</td>\n      <td>-1</td>\n    </tr>\n    <tr>\n      <th>N00000007</th>\n      <td>85.0</td>\n      <td>4</td>\n      <td>4</td>\n      <td>4</td>\n      <td>4</td>\n      <td>4</td>\n      <td>4</td>\n      <td>4</td>\n      <td>4</td>\n      <td>4</td>\n      <td>...</td>\n      <td>4</td>\n      <td>4</td>\n      <td>4</td>\n      <td>-1</td>\n      <td>4</td>\n      <td>4</td>\n      <td>4</td>\n      <td>4</td>\n      <td>4</td>\n      <td>-1</td>\n    </tr>\n    <tr>\n      <th>N00000008</th>\n      <td>65.0</td>\n      <td>-1</td>\n      <td>4</td>\n      <td>4</td>\n      <td>4</td>\n      <td>4</td>\n      <td>-1</td>\n      <td>4</td>\n      <td>4</td>\n      <td>4</td>\n      <td>...</td>\n      <td>-1</td>\n      <td>4</td>\n      <td>4</td>\n      <td>4</td>\n      <td>4</td>\n      <td>4</td>\n      <td>-1</td>\n      <td>4</td>\n      <td>-1</td>\n      <td>4</td>\n    </tr>\n    <tr>\n      <th>N00000009</th>\n      <td>85.0</td>\n      <td>4</td>\n      <td>4</td>\n      <td>-1</td>\n      <td>4</td>\n      <td>4</td>\n      <td>4</td>\n      <td>4</td>\n      <td>4</td>\n      <td>4</td>\n      <td>...</td>\n      <td>-1</td>\n      <td>4</td>\n      <td>4</td>\n      <td>4</td>\n      <td>4</td>\n      <td>4</td>\n      <td>4</td>\n      <td>4</td>\n      <td>4</td>\n      <td>4</td>\n    </tr>\n    <tr>\n      <th>N00000010</th>\n      <td>70.0</td>\n      <td>-1</td>\n      <td>4</td>\n      <td>4</td>\n      <td>-1</td>\n      <td>4</td>\n      <td>4</td>\n      <td>4</td>\n      <td>4</td>\n      <td>4</td>\n      <td>...</td>\n      <td>4</td>\n      <td>4</td>\n      <td>4</td>\n      <td>4</td>\n      <td>-1</td>\n      <td>-1</td>\n      <td>-1</td>\n      <td>4</td>\n      <td>4</td>\n      <td>-1</td>\n    </tr>\n    <tr>\n      <th>N00000011</th>\n      <td>85.0</td>\n      <td>4</td>\n      <td>4</td>\n      <td>4</td>\n      <td>-1</td>\n      <td>4</td>\n      <td>4</td>\n      <td>4</td>\n      <td>4</td>\n      <td>4</td>\n      <td>...</td>\n      <td>4</td>\n      <td>4</td>\n      <td>4</td>\n      <td>4</td>\n      <td>4</td>\n      <td>4</td>\n      <td>-1</td>\n      <td>4</td>\n      <td>4</td>\n      <td>4</td>\n    </tr>\n    <tr>\n      <th>N00000012</th>\n      <td>70.0</td>\n      <td>4</td>\n      <td>-1</td>\n      <td>4</td>\n      <td>4</td>\n      <td>4</td>\n      <td>4</td>\n      <td>4</td>\n      <td>4</td>\n      <td>4</td>\n      <td>...</td>\n      <td>-1</td>\n      <td>4</td>\n      <td>4</td>\n      <td>4</td>\n      <td>-1</td>\n      <td>4</td>\n      <td>4</td>\n      <td>-1</td>\n      <td>-1</td>\n      <td>-1</td>\n    </tr>\n    <tr>\n      <th>N00000013</th>\n      <td>70.0</td>\n      <td>-1</td>\n      <td>4</td>\n      <td>4</td>\n      <td>-1</td>\n      <td>-1</td>\n      <td>4</td>\n      <td>-1</td>\n      <td>4</td>\n      <td>4</td>\n      <td>...</td>\n      <td>4</td>\n      <td>4</td>\n      <td>4</td>\n      <td>4</td>\n      <td>4</td>\n      <td>4</td>\n      <td>4</td>\n      <td>4</td>\n      <td>4</td>\n      <td>4</td>\n    </tr>\n    <tr>\n      <th>N00000014</th>\n      <td>75.0</td>\n      <td>4</td>\n      <td>-1</td>\n      <td>4</td>\n      <td>4</td>\n      <td>4</td>\n      <td>4</td>\n      <td>-1</td>\n      <td>-1</td>\n      <td>4</td>\n      <td>...</td>\n      <td>4</td>\n      <td>-1</td>\n      <td>4</td>\n      <td>4</td>\n      <td>4</td>\n      <td>4</td>\n      <td>4</td>\n      <td>-1</td>\n      <td>4</td>\n      <td>4</td>\n    </tr>\n    <tr>\n      <th>N00000015</th>\n      <td>70.0</td>\n      <td>-1</td>\n      <td>-1</td>\n      <td>-1</td>\n      <td>4</td>\n      <td>4</td>\n      <td>4</td>\n      <td>-1</td>\n      <td>4</td>\n      <td>4</td>\n      <td>...</td>\n      <td>4</td>\n      <td>4</td>\n      <td>4</td>\n      <td>4</td>\n      <td>4</td>\n      <td>4</td>\n      <td>-1</td>\n      <td>-1</td>\n      <td>4</td>\n      <td>4</td>\n    </tr>\n    <tr>\n      <th>N00000016</th>\n      <td>90.0</td>\n      <td>4</td>\n      <td>4</td>\n      <td>-1</td>\n      <td>4</td>\n      <td>-1</td>\n      <td>4</td>\n      <td>4</td>\n      <td>4</td>\n      <td>4</td>\n      <td>...</td>\n      <td>4</td>\n      <td>4</td>\n      <td>4</td>\n      <td>4</td>\n      <td>4</td>\n      <td>4</td>\n      <td>4</td>\n      <td>4</td>\n      <td>4</td>\n      <td>4</td>\n    </tr>\n    <tr>\n      <th>N00000017</th>\n      <td>65.0</td>\n      <td>4</td>\n      <td>4</td>\n      <td>4</td>\n      <td>4</td>\n      <td>4</td>\n      <td>4</td>\n      <td>-1</td>\n      <td>4</td>\n      <td>-1</td>\n      <td>...</td>\n      <td>4</td>\n      <td>4</td>\n      <td>4</td>\n      <td>-1</td>\n      <td>-1</td>\n      <td>-1</td>\n      <td>4</td>\n      <td>4</td>\n      <td>4</td>\n      <td>4</td>\n    </tr>\n    <tr>\n      <th>N00000018</th>\n      <td>75.0</td>\n      <td>4</td>\n      <td>4</td>\n      <td>4</td>\n      <td>-1</td>\n      <td>4</td>\n      <td>4</td>\n      <td>4</td>\n      <td>4</td>\n      <td>4</td>\n      <td>...</td>\n      <td>-1</td>\n      <td>4</td>\n      <td>4</td>\n      <td>4</td>\n      <td>-1</td>\n      <td>4</td>\n      <td>4</td>\n      <td>4</td>\n      <td>-1</td>\n      <td>4</td>\n    </tr>\n    <tr>\n      <th>N00000019</th>\n      <td>75.0</td>\n      <td>4</td>\n      <td>4</td>\n      <td>4</td>\n      <td>4</td>\n      <td>4</td>\n      <td>4</td>\n      <td>4</td>\n      <td>-1</td>\n      <td>4</td>\n      <td>...</td>\n      <td>4</td>\n      <td>4</td>\n      <td>4</td>\n      <td>4</td>\n      <td>-1</td>\n      <td>4</td>\n      <td>4</td>\n      <td>4</td>\n      <td>4</td>\n      <td>4</td>\n    </tr>\n    <tr>\n      <th>N00000020</th>\n      <td>65.0</td>\n      <td>4</td>\n      <td>-1</td>\n      <td>4</td>\n      <td>4</td>\n      <td>4</td>\n      <td>4</td>\n      <td>4</td>\n      <td>4</td>\n      <td>4</td>\n      <td>...</td>\n      <td>-1</td>\n      <td>4</td>\n      <td>4</td>\n      <td>-1</td>\n      <td>4</td>\n      <td>4</td>\n      <td>4</td>\n      <td>4</td>\n      <td>4</td>\n      <td>4</td>\n    </tr>\n  </tbody>\n</table>\n<p>20 rows × 26 columns</p>\n</div>"
     },
     "execution_count": 28,
     "metadata": {},
     "output_type": "execute_result"
    }
   ],
   "source": [
    "import os\n",
    "\n",
    "import numpy as np\n",
    "import pandas as pd\n",
    "import matplotlib.pyplot as plt\n",
    "\n",
    "fileName = input('Please enter the file name:')\n",
    "\n",
    "try:\n",
    "    f = open(os.getcwd() + '\\\\Data Input\\\\' + fileName, 'r')\n",
    "    print('File is found! Processing to load the data ...')\n",
    "    rawData = [[i for i in j.split(',')] for j in f.read().split()]\n",
    "    classDf = pd.DataFrame(rawData).rename(columns={0: 'Student Code'})\n",
    "    f.close()\n",
    "    print('Load data successful! Proceed the next steps ...')\n",
    "except IOError:\n",
    "    #   If the file is not found, try to re-search in 4 times\n",
    "    print('File is not found!')\n",
    "\n",
    "def clean_data(dataFrame):\n",
    "    cols = dataFrame.shape[1]\n",
    "    if cols <= 26:\n",
    "        return dataFrame\n",
    "    else:\n",
    "        df = dataFrame.drop(dataFrame.iloc[:, 26:], axis=1, inplace=False)\n",
    "        return df\n",
    "\n",
    "#   df is the cleaned dataframe of original classDf\n",
    "df = clean_data(classDf)\n",
    "\n",
    "#   creat a copy dataframe for processing\n",
    "df0 = df.copy()\n",
    "n = len(df0)\n",
    "\n",
    "#   set index of df0 to Student Code\n",
    "df0.set_index('Student Code', inplace=True)\n",
    "\n",
    "#   convert all ''/ missing answer to 0\n",
    "df[df == ''] = 0\n",
    "\n",
    "#   setup the answer key to list\n",
    "answerKey = list('B,A,D,D,C,B,D,A,C,C,D,B,A,B,A,C,B,D,A,C,A,A,B,D,D'.split(','))\n",
    "\n",
    "#   compare the df0 with answer key then copy to df1\n",
    "#   df1 value == True >> convert to 4\n",
    "#   df vallue == False >> convert to -1\n",
    "df1 = df0.eq(answerKey)\n",
    "\n",
    "df1[df1 == True] = 4\n",
    "df1[df1 == False] = -1\n",
    "\n",
    "#   move all df0 zero value (0) to df1 for score\n",
    "zeroPos = np.where(df0 == 0)\n",
    "x = list(np.array(zeroPos)[0,0:])\n",
    "y = list(np.array(zeroPos)[1,0:])\n",
    "zeroList = list(zip(x, y))\n",
    "for i in zeroList:\n",
    "    df1.iloc[i] = 0\n",
    "\n",
    "# #   create the\n",
    "df1.insert(loc=0, column='Exam Score', value=np.array([0 for _ in range(n)]))\n",
    "df1['Exam Score'] = df1.sum(axis=1)\n",
    "\n",
    "df2 = df1['Exam Score']\n",
    "df1\n",
    "\n",
    "# dims = list(df2.values)\n",
    "# plt.figure(figsize=(8,8))\n",
    "# plt.boxplot(dims)\n",
    "# plt.xlabel('Student Code', fontsize=16)\n",
    "# plt.ylabel('Score', fontsize=16)\n",
    "# plt.title('Box PLot of Grade Score', fontsize=16)\n",
    "#\n",
    "# plt.show()"
   ],
   "metadata": {
    "collapsed": false,
    "ExecuteTime": {
     "end_time": "2023-06-13T02:45:02.246246Z",
     "start_time": "2023-06-13T02:44:57.240698900Z"
    }
   }
  },
  {
   "cell_type": "code",
   "execution_count": null,
   "outputs": [],
   "source": [],
   "metadata": {
    "collapsed": false
   }
  }
 ],
 "metadata": {
  "kernelspec": {
   "display_name": "Python 3",
   "language": "python",
   "name": "python3"
  },
  "language_info": {
   "codemirror_mode": {
    "name": "ipython",
    "version": 2
   },
   "file_extension": ".py",
   "mimetype": "text/x-python",
   "name": "python",
   "nbconvert_exporter": "python",
   "pygments_lexer": "ipython2",
   "version": "2.7.6"
  }
 },
 "nbformat": 4,
 "nbformat_minor": 0
}
